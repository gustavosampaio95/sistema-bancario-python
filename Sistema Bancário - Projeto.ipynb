{
 "cells": [
  {
   "cell_type": "code",
   "execution_count": 2,
   "metadata": {},
   "outputs": [
    {
     "name": "stdout",
     "output_type": "stream",
     "text": [
      "Opção inválida! Por favor selecione uma operação válida\n"
     ]
    }
   ],
   "source": [
    "## Projeto de Sistema Bancário em Python\n",
    "\n",
    "menu = \"\"\"\n",
    "\n",
    "[d] depósito\n",
    "[s] saque\n",
    "[e] extrato\n",
    "[q] sair\n",
    "\n",
    "=> \"\"\"\n",
    "\n",
    "saldo = 0\n",
    "limite = 500 \n",
    "extrato = \"\"\n",
    "saques_realizados = 0\n",
    "LIMITE_SAQUES = 4\n",
    "\n",
    "while True:\n",
    "    option = input(menu)\n",
    "\n",
    "    if option == \"d\":\n",
    "        valor = float(input(\"Informe o valor do depósito: \"))\n",
    "\n",
    "        if valor > 0:\n",
    "            saldo += valor\n",
    "            extrato += f\"Depósito: R$ {valor:.2f}\\n\"\n",
    "            \n",
    "        else:\n",
    "            print(\"Operação falhou. Valor inválido.\")\n",
    "\n",
    "    elif option == \"s\":\n",
    "        valor = float(input(\"Informe o valor do saque: \"))\n",
    "\n",
    "        excedeu_saldo = valor > saldo\n",
    "\n",
    "        excedeu_limite = valor > limite\n",
    "\n",
    "        excedeu_saques = saques_realizados >= LIMITE_SAQUES\n",
    "\n",
    "        if excedeu_saldo: \n",
    "            print (\"Falha! Sem saldo suficiente\")\n",
    "        elif excedeu_limite:\n",
    "            print (\"Falha! Limite de valor para saque excedido\")\n",
    "        elif excedeu_saques:\n",
    "            print (\"Falha! Limite de saques excedido, apenas 4 permitidos\")\n",
    "            \n",
    "        \n",
    "        elif valor > 0:\n",
    "            saldo -= valor\n",
    "            extrato += f\"Saque: R$ {valor:.2f}\\n\"\n",
    "            saques_realizados += 1\n",
    "    \n",
    "\n",
    "        else:\n",
    "            print(\"Falha! Valor informado é inválido!\")\n",
    "        \n",
    "    elif option == \"e\":\n",
    "        print (\"\\n=========== EXTRATO ===========\")\n",
    "        print (\"Não foram realizadas operações.\" if not extrato else extrato)\n",
    "        print (f\"\\nSaldo: R$ {saldo:.2f}\")\n",
    "        print (\"===============================\")\n",
    "    elif option == \"q\":\n",
    "        break\n",
    "    \n",
    "    else:\n",
    "        print (\"Opção inválida! Por favor selecione uma operação válida\")\n",
    "    \n"
   ]
  },
  {
   "cell_type": "code",
   "execution_count": null,
   "metadata": {},
   "outputs": [],
   "source": []
  }
 ],
 "metadata": {
  "kernelspec": {
   "display_name": "Python 3.9.12 ('base')",
   "language": "python",
   "name": "python3"
  },
  "language_info": {
   "codemirror_mode": {
    "name": "ipython",
    "version": 3
   },
   "file_extension": ".py",
   "mimetype": "text/x-python",
   "name": "python",
   "nbconvert_exporter": "python",
   "pygments_lexer": "ipython3",
   "version": "3.9.12"
  },
  "orig_nbformat": 4,
  "vscode": {
   "interpreter": {
    "hash": "2b884ea0e947de077c1d7efe1022de4ccb72584a6841596a660c573eeda856ca"
   }
  }
 },
 "nbformat": 4,
 "nbformat_minor": 2
}
